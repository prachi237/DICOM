{
 "cells": [
  {
   "cell_type": "code",
   "execution_count": 2,
   "id": "858c022b",
   "metadata": {},
   "outputs": [
    {
     "name": "stdout",
     "output_type": "stream",
     "text": [
      "Collecting pydicom\n",
      "  Downloading pydicom-2.4.4-py3-none-any.whl (1.8 MB)\n",
      "     ---------------------------------------- 1.8/1.8 MB 1.8 MB/s eta 0:00:00\n",
      "Installing collected packages: pydicom\n",
      "Successfully installed pydicom-2.4.4\n"
     ]
    },
    {
     "name": "stderr",
     "output_type": "stream",
     "text": [
      "WARNING: Ignoring invalid distribution -atplotlib (d:\\anacondas\\lib\\site-packages)\n",
      "WARNING: Ignoring invalid distribution -atplotlib (d:\\anacondas\\lib\\site-packages)\n",
      "WARNING: Ignoring invalid distribution -atplotlib (d:\\anacondas\\lib\\site-packages)\n",
      "WARNING: Ignoring invalid distribution -atplotlib (d:\\anacondas\\lib\\site-packages)\n",
      "WARNING: Ignoring invalid distribution -atplotlib (d:\\anacondas\\lib\\site-packages)\n",
      "WARNING: Ignoring invalid distribution -atplotlib (d:\\anacondas\\lib\\site-packages)\n",
      "WARNING: Ignoring invalid distribution -atplotlib (d:\\anacondas\\lib\\site-packages)\n"
     ]
    }
   ],
   "source": [
    "! pip install pydicom\n",
    "import numpy as np\n",
    "import pydicom\n",
    "from PIL import Image"
   ]
  },
  {
   "cell_type": "code",
   "execution_count": 6,
   "id": "34cedaf0",
   "metadata": {},
   "outputs": [],
   "source": [
    "img = pydicom.dcmread('IMG.dcm')\n",
    "img = img.pixel_array.astype(float)"
   ]
  },
  {
   "cell_type": "code",
   "execution_count": 7,
   "id": "82497516",
   "metadata": {},
   "outputs": [],
   "source": [
    "scaled_img = (np.maximum(img,0)/img.max())*255\n",
    "final_img = np.uint8(scaled_img)"
   ]
  },
  {
   "cell_type": "code",
   "execution_count": 8,
   "id": "ccb21f4c",
   "metadata": {},
   "outputs": [],
   "source": [
    "final_img = Image.fromarray(final_img)\n",
    "final_img.show()\n",
    "final_img.save('new_img.jpg')"
   ]
  },
  {
   "cell_type": "code",
   "execution_count": null,
   "id": "afb76146",
   "metadata": {},
   "outputs": [],
   "source": []
  }
 ],
 "metadata": {
  "kernelspec": {
   "display_name": "Python 3 (ipykernel)",
   "language": "python",
   "name": "python3"
  },
  "language_info": {
   "codemirror_mode": {
    "name": "ipython",
    "version": 3
   },
   "file_extension": ".py",
   "mimetype": "text/x-python",
   "name": "python",
   "nbconvert_exporter": "python",
   "pygments_lexer": "ipython3",
   "version": "3.10.9"
  }
 },
 "nbformat": 4,
 "nbformat_minor": 5
}
