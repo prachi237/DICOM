{
 "cells": [
  {
   "cell_type": "code",
   "execution_count": 1,
   "id": "962eb3a5",
   "metadata": {},
   "outputs": [],
   "source": [
    "import numpy as np\n",
    "import pydicom\n",
    "from PIL import Image \n",
    "import os"
   ]
  },
  {
   "cell_type": "code",
   "execution_count": 10,
   "id": "a1c52791",
   "metadata": {},
   "outputs": [],
   "source": [
    "def getnames(path):\n",
    "    names=[]\n",
    "    for root, dirnames, filenames in os.walk(path):\n",
    "        for i in filenames:\n",
    "            _, ext = os.path.splitext(i)\n",
    "            if ext in ['.dcm']:\n",
    "                names.append(i)\n",
    "    return names"
   ]
  },
  {
   "cell_type": "code",
   "execution_count": 11,
   "id": "a3f6320c",
   "metadata": {},
   "outputs": [],
   "source": [
    "def convert_folder(name):\n",
    "    img = pydicom.dcmread('Database/'+name)\n",
    "    img = img.pixel_array.astype(float)\n",
    "    scaled_img = (np.maximum(img,0)/umg.max())*255\n",
    "    final_img=np.uint8(scaled_img)\n",
    "    final_img=Image.fromarray(final_img)\n",
    "    \n",
    "    return final_img"
   ]
  },
  {
   "cell_type": "code",
   "execution_count": 12,
   "id": "d2250f74",
   "metadata": {},
   "outputs": [],
   "source": [
    "names = getnames('database')\n",
    "for i in names:\n",
    "    image = convert_folder(i)\n",
    "    image.save(name+'.jpg')"
   ]
  },
  {
   "cell_type": "code",
   "execution_count": null,
   "id": "52e20f81",
   "metadata": {},
   "outputs": [],
   "source": []
  }
 ],
 "metadata": {
  "kernelspec": {
   "display_name": "Python 3 (ipykernel)",
   "language": "python",
   "name": "python3"
  },
  "language_info": {
   "codemirror_mode": {
    "name": "ipython",
    "version": 3
   },
   "file_extension": ".py",
   "mimetype": "text/x-python",
   "name": "python",
   "nbconvert_exporter": "python",
   "pygments_lexer": "ipython3",
   "version": "3.10.9"
  }
 },
 "nbformat": 4,
 "nbformat_minor": 5
}
